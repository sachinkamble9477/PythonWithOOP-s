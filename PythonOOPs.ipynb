{
  "nbformat": 4,
  "nbformat_minor": 0,
  "metadata": {
    "colab": {
      "name": "PythonOOPs.ipynb",
      "provenance": [],
      "collapsed_sections": []
    },
    "kernelspec": {
      "name": "python3",
      "display_name": "Python 3"
    },
    "language_info": {
      "name": "python"
    }
  },
  "cells": [
    {
      "cell_type": "markdown",
      "metadata": {
        "id": "6AMndS4qScK9"
      },
      "source": [
        "Object Oriented Programming\n"
      ]
    },
    {
      "cell_type": "code",
      "metadata": {
        "colab": {
          "base_uri": "https://localhost:8080/"
        },
        "id": "5QITxRkcS1LF",
        "outputId": "a4c995a0-e74f-40f7-e68f-873357e7d360"
      },
      "source": [
        "# Basics about oops and procedural\n",
        "# procedural => step by step approach using function this make m/c automate but can not modify it according to object\n",
        "# oops makes your task is easy, more secure(hidden data) and more robust\n",
        "# main element of oop class & object ,encapsulation ,inheritance, polymorrphism,abstraction\n",
        "# The blueprint of object is class , instance of class is an object\n",
        "\n",
        "# object and classes demo\n",
        "# example of class\n",
        "class Perfect:                      # class is created\n",
        "  id=10\n",
        "  name=\"xyz\"\n",
        "\n",
        "  def display(self):                # display() function with parameter passed self... tell the current object we are using\n",
        "    print(self.id,self.name)          \n",
        "\n",
        "\n",
        "s1=Perfect()                         # object is created   \n",
        "s1.display()\n",
        "s2=Perfect()\n",
        "s2.display()\n",
        "\n"
      ],
      "execution_count": null,
      "outputs": [
        {
          "output_type": "stream",
          "text": [
            "10 xyz\n",
            "10 xyz\n"
          ],
          "name": "stdout"
        }
      ]
    },
    {
      "cell_type": "markdown",
      "metadata": {
        "id": "IkUDAx9IaqQy"
      },
      "source": [
        "Constructor "
      ]
    },
    {
      "cell_type": "code",
      "metadata": {
        "id": "LseTSKgsaua6",
        "colab": {
          "base_uri": "https://localhost:8080/"
        },
        "outputId": "a0759b75-1fca-4883-93fb-2e7cfc154f05"
      },
      "source": [
        "# what problem we ara facing ? we create class & object whose id =10 name=xyz for \n",
        "# all other being create but if you want to change id & name how do you do \n",
        "# here comes the constructor , whenever object is created automatically constructor called\n",
        "\n",
        "class perfectplan:\n",
        "  count=0                                     # to print no of object created\n",
        "  def __init__(self,id,name):                 # init method is used as constructor\n",
        "    \n",
        "    self.id= id\n",
        "    self.name=name\n",
        "    perfectplan.count=perfectplan.count+1     # to print no of plan i.e object is created\n",
        "  def display (self):\n",
        "    print(\"Id & Name\",self.id,self.name)\n",
        "s1=perfectplan(1,\"xyz\")\n",
        "s2=perfectplan(2,\"abc\")\n",
        "s3=perfectplan(3,\"pqr\")\n",
        "\n",
        "s1.display()\n",
        "s2.display()\n",
        "s3.display()\n",
        "print(\"no of plan\",perfectplan.count)\n",
        "\n",
        "# To find the object in perticular class => add in class count=0 and classname.count=classname.count+1\n",
        "# this is also an example of parametrised constructor"
      ],
      "execution_count": null,
      "outputs": [
        {
          "output_type": "stream",
          "text": [
            "Id & Name 1 xyz\n",
            "Id & Name 2 abc\n",
            "Id & Name 3 pqr\n",
            "no of plan 3\n"
          ],
          "name": "stdout"
        }
      ]
    },
    {
      "cell_type": "markdown",
      "metadata": {
        "id": "IxzADFVi_ABC"
      },
      "source": [
        "Default Contructor & Parametrised Contructor"
      ]
    },
    {
      "cell_type": "code",
      "metadata": {
        "colab": {
          "base_uri": "https://localhost:8080/"
        },
        "id": "v4vLq2Mi_Trb",
        "outputId": "3cb9940a-2e97-42e5-e0e1-b4358a80c7c4"
      },
      "source": [
        "class perfectplan:\n",
        "  count=0\n",
        "  def __init__(self):\n",
        "    print(\"non parameterised constructtor\")\n",
        "  def display(self,name):\n",
        "    print(\"Name:\",name)\n",
        "s1=perfectplan()\n",
        "s1.display(\"xyz\")\n",
        "\n"
      ],
      "execution_count": null,
      "outputs": [
        {
          "output_type": "stream",
          "text": [
            "non parameterised constructtor\n",
            "Name: xyz\n"
          ],
          "name": "stdout"
        }
      ]
    },
    {
      "cell_type": "code",
      "metadata": {
        "colab": {
          "base_uri": "https://localhost:8080/"
        },
        "id": "Azo95puZBlF3",
        "outputId": "61e00f09-5d4b-49be-e324-b5d6650fc900"
      },
      "source": [
        "class perfectplan:\n",
        "  count=0\n",
        "  def __init__(self):\n",
        "    print(\"Non parameterised constructor first\")\n",
        "  def __init__(self):\n",
        "    print(\"Non parameterised constructor second\")\n",
        "  def display(self,name):\n",
        "    print(\"Name:\",name)\n",
        "s1=perfectplan()\n",
        "s1.display(\"xyz\")\n",
        "\n",
        "# constructor overloading is not supported  python recent call will print\n"
      ],
      "execution_count": null,
      "outputs": [
        {
          "output_type": "stream",
          "text": [
            "Non parameterised constructor second\n",
            "Name: xyz\n"
          ],
          "name": "stdout"
        }
      ]
    },
    {
      "cell_type": "markdown",
      "metadata": {
        "id": "Of4t0jRVDlhz"
      },
      "source": [
        "Encapsulations & Abstraction\n"
      ]
    },
    {
      "cell_type": "code",
      "metadata": {
        "colab": {
          "base_uri": "https://localhost:8080/"
        },
        "id": "U6W3Xd8BYlPz",
        "outputId": "a7ce9917-dea4-4169-a76c-a4b4b6bf7740"
      },
      "source": [
        "# wraping the data and method togheter called encapsulations\n",
        "# Data & method bound together such as \"class\" => it has data as well as method \n",
        "# the object accessing the data & method are allowed NO here comes the abstraction in picture \n",
        "# abstraction is nothing but showing relevant data and hiding irrelevent data it is \n",
        "# done by private method underscore single(_) or double(__) \n",
        "\n",
        "class perfectplan:\n",
        "  def __init__(self):\n",
        "    self._id=100     # this will print as it is in the class i.e public section and havinig single underscore (_) \n",
        "\n",
        "  def display(self):\n",
        "    print(\"id:\",self._id)\n",
        "s1=perfectplan()\n",
        "s2=perfectplan()\n",
        "s2.__id=101         # it will not print as it is protected by __ double underscore  that is how oops is more secure \n",
        "s1.display()\n",
        "s2.display()\n"
      ],
      "execution_count": 1,
      "outputs": [
        {
          "output_type": "stream",
          "name": "stdout",
          "text": [
            "id: 100\n",
            "id: 100\n"
          ]
        }
      ]
    },
    {
      "cell_type": "code",
      "metadata": {
        "colab": {
          "base_uri": "https://localhost:8080/"
        },
        "id": "meqIDmSZY16l",
        "outputId": "78ea2aed-3099-45f6-eadd-3dc7bd81f206"
      },
      "source": [
        "# if some admin come want to see or modify the data that time  \n",
        "# solution is instead of putting id to public define the functions\n",
        "\n",
        "class perfectplan:\n",
        "  def __init__(self):\n",
        "    self._id=100    \n",
        "\n",
        "  def display(self):\n",
        "    print(\"id:\",self._id)\n",
        "\n",
        "  def setID(self,id):   # by using this function we print he data but not get the access of private member\n",
        "    self._id=id\n",
        "s1=perfectplan()\n",
        "s2=perfectplan()\n",
        "s2.setID(101)           # it will now print the data as we use function setID \n",
        "s1.display()\n",
        "s2.display()"
      ],
      "execution_count": 2,
      "outputs": [
        {
          "output_type": "stream",
          "name": "stdout",
          "text": [
            "id: 100\n",
            "id: 101\n"
          ]
        }
      ]
    },
    {
      "cell_type": "markdown",
      "metadata": {
        "id": "gDnYCcI_PYeZ"
      },
      "source": [
        "Inheritance & its Type"
      ]
    },
    {
      "cell_type": "code",
      "metadata": {
        "colab": {
          "base_uri": "https://localhost:8080/"
        },
        "id": "LlgnAFZXPcGa",
        "outputId": "f3a9d8d9-6d57-494a-9270-63d628f2c746"
      },
      "source": [
        "# you get some inbuilt feature from your parent is nothing but inheritance ex black hair\n",
        "# if you add something by your side make overrriding  ex you make red\n",
        "# base class, parent class, super class \n",
        "# derived class , child class, sub class\n",
        "# multiple inheritance, multilevel inheritance , and all other\n",
        "class Animal:\n",
        "  def speak (self):\n",
        "    print(\"animal is speaking\")\n",
        "\n",
        "class Dog(Animal):\n",
        "  def bark(self):\n",
        "    print(\"dog is barking\")\n",
        "d=Dog()     # has all method of base class and also its own\n",
        "d.speak()\n",
        "d.bark()\n",
        "\n",
        "class ChildDog(Dog):\n",
        "  def eat(self):\n",
        "    print(\"child dog is eating\")\n",
        "d=ChildDog()\n",
        "d.speak()      # function call \n",
        "d.bark()\n",
        "d.eat()\n",
        "\n",
        "#this is also called multilevel inheritance\n"
      ],
      "execution_count": null,
      "outputs": [
        {
          "output_type": "stream",
          "text": [
            "animal is speaking\n",
            "dog is barking\n",
            "animal is speaking\n",
            "dog is barking\n",
            "child dog is eating\n"
          ],
          "name": "stdout"
        }
      ]
    },
    {
      "cell_type": "markdown",
      "metadata": {
        "id": "ZZzLN7aaoBLz"
      },
      "source": [
        "Multiple inheritance"
      ]
    },
    {
      "cell_type": "code",
      "metadata": {
        "colab": {
          "base_uri": "https://localhost:8080/"
        },
        "id": "p9uvYwmSoGg2",
        "outputId": "170b0fda-69ee-4289-ba08-1ce1d1475657"
      },
      "source": [
        "# multiple inheritance\n",
        "class Animal:            #class1\n",
        "  def speak (self):\n",
        "    print(\"animal is speaking\")\n",
        "\n",
        "class Dog:              #class2\n",
        "  def bark(self):\n",
        "    print(\"dog is barking\")\n",
        "\n",
        "class ChildDog(Animal,Dog):   # class inherited  both class properties\n",
        "  def eat(self):\n",
        "    print(\"child dog is eating\")\n",
        "d=ChildDog()                  # if here only d=dog() then it will show error\n",
        "d.speak()      \n",
        "d.bark()\n",
        "d.eat()"
      ],
      "execution_count": null,
      "outputs": [
        {
          "output_type": "stream",
          "text": [
            "animal is speaking\n",
            "dog is barking\n",
            "child dog is eating\n"
          ],
          "name": "stdout"
        }
      ]
    },
    {
      "cell_type": "markdown",
      "metadata": {
        "id": "hj39NDPIqTc-"
      },
      "source": [
        "Polymorphism "
      ]
    },
    {
      "cell_type": "code",
      "metadata": {
        "colab": {
          "base_uri": "https://localhost:8080/"
        },
        "id": "p9568JGCqYKk",
        "outputId": "9a952fd9-945e-4668-86de-2fe30aaae3a8"
      },
      "source": [
        "# Single name , many works is called poymorphism \n",
        "# ex len()=> uses str-> length of string ,list-> no of items ,dict->no of keys\n",
        "# you dont change the definition of function or method just\n",
        "# change what is being done by perticucar method called method overriding\n",
        "# same function with different parameter is called method overloading but does not support in python \n",
        "\n",
        "class Animal:\n",
        "  def speak(self):\n",
        "    print(\"Animal is speaking\")\n",
        "\n",
        "class Dog(Animal):\n",
        "  def speak(self):\n",
        "    print(\"dog is barking\")\n",
        "d=Dog()\n",
        "d.speak()\n",
        "# this is called method overriding the child class is overridden by the base class\n",
        "\n",
        "# real life example of Bank\n",
        "\n",
        "class RBI:\n",
        "  def getRoi(self):\n",
        "    return 10\n",
        "\n",
        "class SBI(RBI):\n",
        "  def getRoi(self):\n",
        "    return 7\n",
        "\n",
        "class ICICI(RBI):\n",
        "  def getRoi(self):\n",
        "    return 8\n",
        "\n",
        "d=SBI()\n",
        "d.getRoi()\n",
        "\n",
        "d=ICICI()\n",
        "d.getRoi()\n",
        "\n",
        "#this is called method overriding\n"
      ],
      "execution_count": null,
      "outputs": [
        {
          "output_type": "stream",
          "text": [
            "dog is barking\n"
          ],
          "name": "stdout"
        },
        {
          "output_type": "execute_result",
          "data": {
            "text/plain": [
              "8"
            ]
          },
          "metadata": {
            "tags": []
          },
          "execution_count": 73
        }
      ]
    },
    {
      "cell_type": "markdown",
      "metadata": {
        "id": "Jon-4YET0qGH"
      },
      "source": [
        "Some more important function"
      ]
    },
    {
      "cell_type": "code",
      "metadata": {
        "colab": {
          "base_uri": "https://localhost:8080/"
        },
        "id": "MWXLXi7O01q0",
        "outputId": "f8b453a9-947e-4301-cf14-cf31a8a62b49"
      },
      "source": [
        "class RBI:\n",
        "  def getRoi(self):\n",
        "    return 10\n",
        "\n",
        "class SBI(RBI):\n",
        "  def getRoi(self):\n",
        "    return 7\n",
        "\n",
        "class ICICI(RBI):\n",
        "  def getRoi(self):\n",
        "    return 8\n",
        "\n",
        "d=SBI()\n",
        "d.getRoi()\n",
        "\n",
        "d=RBI()\n",
        "d.getRoi()\n",
        "print(issubclass(SBI,RBI)) #TRUE If you remove RBI shows error \n",
        "\n",
        "print(isinstance(d,RBI))   .#TRUE  means d is object of RBI\n",
        "\n",
        "print(isinstance(d,SBI))\n"
      ],
      "execution_count": null,
      "outputs": [
        {
          "output_type": "stream",
          "text": [
            "True\n",
            "True\n",
            "False\n"
          ],
          "name": "stdout"
        }
      ]
    }
  ]
}